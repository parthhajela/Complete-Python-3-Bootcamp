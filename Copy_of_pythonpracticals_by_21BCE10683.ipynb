{
  "nbformat": 4,
  "nbformat_minor": 0,
  "metadata": {
    "colab": {
      "provenance": [],
      "include_colab_link": true
    },
    "kernelspec": {
      "name": "python3",
      "display_name": "Python 3"
    },
    "language_info": {
      "name": "python"
    }
  },
  "cells": [
    {
      "cell_type": "markdown",
      "metadata": {
        "id": "view-in-github",
        "colab_type": "text"
      },
      "source": [
        "<a href=\"https://colab.research.google.com/github/parthhajela/Complete-Python-3-Bootcamp/blob/master/Copy_of_pythonpracticals_by_21BCE10683.ipynb\" target=\"_parent\"><img src=\"https://colab.research.google.com/assets/colab-badge.svg\" alt=\"Open In Colab\"/></a>"
      ]
    },
    {
      "cell_type": "markdown",
      "source": [
        "# Python Lab Experiments Practicals Code\n",
        "## <font color='pink'>Submitted To : GEETA Singh MAM\n",
        "\n",
        "* <font color='lightgreen'>Name : PARTH HAJELA\n",
        "* Roll NO. : 21BCE10683\n",
        "* <font color='lightgreen'>Subject : Python Programming</font>\n",
        "* Course Code : CSE3011\n",
        "\n"
      ],
      "metadata": {
        "id": "tF5WjufhkRF3"
      }
    },
    {
      "cell_type": "markdown",
      "source": [
        "# Lab1 - Aim : Write python program to print list of numbers using range and for loop."
      ],
      "metadata": {
        "id": "DFQx9pXlC6Xi"
      }
    },
    {
      "cell_type": "code",
      "execution_count": 1,
      "metadata": {
        "colab": {
          "base_uri": "https://localhost:8080/"
        },
        "id": "8xGvbA7TCwcR",
        "outputId": "bbe62c7a-5a19-42bb-af59-a6a0b7310b49"
      },
      "outputs": [
        {
          "output_type": "stream",
          "name": "stdout",
          "text": [
            "2\n",
            "3\n",
            "4\n",
            "5\n",
            "6\n",
            "7\n",
            "end of loop\n",
            "\n",
            "Programmed By : PARTH HAJELA 21BCE10683\n"
          ]
        }
      ],
      "source": [
        "def print_numbers_with_next(start, end):\n",
        "    \"\"\"\n",
        "    Print a sequence of numbers from start to end, and the next number for each.\n",
        "\n",
        "    Args:\n",
        "    - start (int): The starting value of the sequence.\n",
        "    - end (int): The ending value of the sequence.\n",
        "    \"\"\"\n",
        "    for i in range(start, end):\n",
        "        print(i)\n",
        "        i+1\n",
        "    print('end of loop')\n",
        "    print('\\nProgrammed By : PARTH HAJELA 21BCE10683')\n",
        "\n",
        "\n",
        "# Call the function with the specified range\n",
        "print_numbers_with_next(2, 8)\n"
      ]
    },
    {
      "cell_type": "markdown",
      "source": [
        "# Lab2 - Aim : Write python program to print first n prime numbers."
      ],
      "metadata": {
        "id": "9M7IedV5HgO6"
      }
    },
    {
      "cell_type": "code",
      "source": [
        "def is_prime(num):\n",
        "    if num <= 1:\n",
        "        return False\n",
        "    for i in range(2, int(num ** 0.5) + 1):\n",
        "        if num % i == 0:\n",
        "            return False\n",
        "    return True\n",
        "\n",
        "def print_first_n_primes(n):\n",
        "    count = 0\n",
        "    num = 2\n",
        "    while count < n:\n",
        "        if is_prime(num):\n",
        "            print(num,end=\" \")\n",
        "            count += 1\n",
        "        num += 1\n",
        "    print('\\nProgrammed By : PARTH HAJELA')\n",
        "\n",
        "# Get user input for the number of primes to print\n",
        "n = int(input(\"Enter the value of n: \"))\n",
        "\n",
        "# Call the function to print the first n prime numbers\n",
        "print(\"First\", n, \"prime numbers:\")\n",
        "print_first_n_primes(n)\n"
      ],
      "metadata": {
        "colab": {
          "base_uri": "https://localhost:8080/"
        },
        "id": "00gu4qAGHfSY",
        "outputId": "25efcb95-1865-4a52-bd91-5d6043d89fe3"
      },
      "execution_count": 2,
      "outputs": [
        {
          "output_type": "stream",
          "name": "stdout",
          "text": [
            "Enter the value of n: 7\n",
            "First 7 prime numbers:\n",
            "2 3 5 7 11 13 17 \n",
            "Programmed By : PARTH HAJELA\n"
          ]
        }
      ]
    },
    {
      "cell_type": "markdown",
      "source": [
        "# Lab3 - Aim : Write python program to multiply matrices."
      ],
      "metadata": {
        "id": "8LxiFeALJDV_"
      }
    },
    {
      "cell_type": "code",
      "source": [
        "def matrix_multiply(matrix1, matrix2):\n",
        "    rows1 = len(matrix1)\n",
        "    cols1 = len(matrix1[0])\n",
        "    rows2 = len(matrix2)\n",
        "    cols2 = len(matrix2[0])\n",
        "\n",
        "    if cols1 != rows2:\n",
        "        print(\"Number of columns in the first matrix must be equal to the number of rows in the second matrix.\")\n",
        "        return None\n",
        "\n",
        "    result = [[0 for _ in range(cols2)] for _ in range(rows1)]\n",
        "\n",
        "    for i in range(rows1):\n",
        "        for j in range(cols2):\n",
        "            for k in range(cols1):\n",
        "                result[i][j] += matrix1[i][k] * matrix2[k][j]\n",
        "\n",
        "    return result\n",
        "\n",
        "# Example matrices\n",
        "matrix1 = [[1, 2, 3],\n",
        "           [4, 5, 6]]\n",
        "\n",
        "matrix2 = [[7, 8],\n",
        "           [9, 10],\n",
        "           [11, 12]]\n",
        "\n",
        "# Multiply matrices\n",
        "result = matrix_multiply(matrix1, matrix2)\n",
        "\n",
        "# Print the result\n",
        "if result:\n",
        "    print(\"\\nResultant Matrix after multiplication:\\n\")\n",
        "    for row in result:\n",
        "        print(row)\n",
        "    print('\\nProgrammed By : PARTH HAJELA 21BCE10683')\n"
      ],
      "metadata": {
        "colab": {
          "base_uri": "https://localhost:8080/"
        },
        "id": "S5h1ZmnJJBsw",
        "outputId": "f81dd63b-4682-44bc-8ceb-c6105db2215b"
      },
      "execution_count": 3,
      "outputs": [
        {
          "output_type": "stream",
          "name": "stdout",
          "text": [
            "\n",
            "Resultant Matrix after multiplication:\n",
            "\n",
            "[58, 64]\n",
            "[139, 154]\n",
            "\n",
            "Programmed By : PARTH HAJELA 21BCE10683\n"
          ]
        }
      ]
    },
    {
      "cell_type": "code",
      "source": [
        "import sys\n",
        "\n",
        "def word_count(text):\n",
        "    \"\"\"\n",
        "    Count the number of words in the input text.\n",
        "\n",
        "    Args:\n",
        "    - text (str): Input text to count words from.\n",
        "\n",
        "    Returns:\n",
        "    - count (int): Number of words in the input text.\n",
        "    \"\"\"\n",
        "    words = text.split()\n",
        "    return len(words)\n",
        "\n",
        "if __name__ == \"__main__\":\n",
        "    # Get the command-line arguments excluding the script name\n",
        "    args = sys.argv[1:]\n",
        "\n",
        "    # Join the arguments into a single string\n",
        "    input_text = ' '.join(args)\n",
        "\n",
        "    # Count the words in the input text\n",
        "    count = word_count(input_text)\n",
        "\n",
        "    # Print the word count\n",
        "    print(\"Word count:\", count)\n"
      ],
      "metadata": {
        "colab": {
          "base_uri": "https://localhost:8080/"
        },
        "id": "wO36AxSOKDUe",
        "outputId": "ce3a063f-688a-43c0-e9df-a7d1b1b8b9f9"
      },
      "execution_count": 5,
      "outputs": [
        {
          "output_type": "stream",
          "name": "stdout",
          "text": [
            "Word count: 2\n"
          ]
        }
      ]
    },
    {
      "cell_type": "markdown",
      "source": [
        "# Lab4 - Aim : Write python program to take command line arguments (word count)."
      ],
      "metadata": {
        "id": "auEEbLeTMP6P"
      }
    },
    {
      "cell_type": "code",
      "source": [
        "def count_words(text):\n",
        "    words = text.split()\n",
        "    word_count = len(words)\n",
        "    return word_count\n",
        "\n",
        "if __name__ == \"__main__\":\n",
        "    # Get user input\n",
        "    user_input = input(\"\\nEnter a sentence: \")\n",
        "\n",
        "    # Count words and letters\n",
        "    word_count = count_words(user_input)\n",
        "\n",
        "    # Print word count\n",
        "    print(\"Word count:\", word_count)\n",
        "\n"
      ],
      "metadata": {
        "colab": {
          "base_uri": "https://localhost:8080/"
        },
        "id": "UlVC0dQ5MLah",
        "outputId": "fa444902-6761-4aea-9cb4-70427f1e872e"
      },
      "execution_count": 6,
      "outputs": [
        {
          "output_type": "stream",
          "name": "stdout",
          "text": [
            "\n",
            "Enter a sentence: PARTH\n",
            "Word count: 1\n"
          ]
        }
      ]
    },
    {
      "cell_type": "markdown",
      "source": [
        "# Lab5 - Aim : Write python program in which a function is defined and calling that function prints ‘Hello World’."
      ],
      "metadata": {
        "id": "H09AXyalNUmy"
      }
    },
    {
      "cell_type": "code",
      "source": [
        "def print_hello_world():\n",
        "    \"\"\"\n",
        "    Function to print 'Hello World'.\n",
        "    \"\"\"\n",
        "    print(\"Hello World\")\n",
        "\n",
        "# Calling the function to print 'Hello World'\n",
        "print_hello_world()\n",
        "print('Programmed By : PARTH HAJELA 21BCE10683')\n"
      ],
      "metadata": {
        "colab": {
          "base_uri": "https://localhost:8080/"
        },
        "id": "w7VFsVD0NTzu",
        "outputId": "f0313e72-fff5-421d-ab54-55a24a2f045d"
      },
      "execution_count": 7,
      "outputs": [
        {
          "output_type": "stream",
          "name": "stdout",
          "text": [
            "Hello World\n",
            "Programmed By : PARTH HAJELA 21BCE10683\n"
          ]
        }
      ]
    },
    {
      "cell_type": "markdown",
      "source": [
        "# Lab6 - Aim : Write python program to let user enter some data in string and then verify data and print welcome to user."
      ],
      "metadata": {
        "id": "FwRmzWndPc57"
      }
    },
    {
      "cell_type": "code",
      "source": [
        "def verify_data(data):\n",
        "    # Check if the data is not empty\n",
        "    if data.strip() == \"\":\n",
        "        return False\n",
        "    elif(data == \"21BCE10683\"):\n",
        "        return True\n",
        "\n",
        "if __name__ == \"__main__\":\n",
        "    # Prompt the user to enter some data\n",
        "    user_data = input(\"Please enter your data (Roll No.): \")\n",
        "\n",
        "    # Verify the data\n",
        "    if verify_data(user_data):\n",
        "        # If data is valid, print a welcome message\n",
        "        print(\"Welcome to the program, user!\")\n",
        "        print('Programmed By : PARTH HAJELA 21BCE10683')\n",
        "    else:\n",
        "        # If data is not valid, print an error message\n",
        "        print(\"Invalid data entered. Please try again.\")\n",
        "\n"
      ],
      "metadata": {
        "colab": {
          "base_uri": "https://localhost:8080/"
        },
        "id": "QQDU1gJsPZpe",
        "outputId": "8a9b9868-75b9-4a37-e651-23d346fbfd99"
      },
      "execution_count": null,
      "outputs": [
        {
          "output_type": "stream",
          "name": "stdout",
          "text": [
            "Please enter your data (Roll No.): 21BCE10690\n",
            "Welcome to the program, user!\n",
            "Programmed By : PIYUSH PATEL 21BCE10690\n"
          ]
        }
      ]
    },
    {
      "cell_type": "markdown",
      "source": [
        "# Lab 7 - Aim : Write python program to store strings in list and then print them."
      ],
      "metadata": {
        "id": "vlgDmEASQGQv"
      }
    },
    {
      "cell_type": "code",
      "source": [
        "def store_strings_in_list():\n",
        "    strings_list = []  # Initialize an empty list to store strings\n",
        "\n",
        "    # Prompt the user to enter strings\n",
        "    print(\"Enter strings (press Enter without typing anything to finish):\")\n",
        "    while True:\n",
        "        string = input(\"> \")  # Get input from the user\n",
        "        if string == \"\":  # If the user presses Enter without typing anything, exit the loop\n",
        "            break\n",
        "        strings_list.append(string)  # Add the entered string to the list\n",
        "\n",
        "    # Print all the strings stored in the list\n",
        "    print(\"\\nStrings entered by the user:\")\n",
        "    for string in strings_list:\n",
        "        print(string)\n",
        "    print('\\nProgrammed By : PARTH HAJELA 21BCE10683')\n",
        "\n",
        "# Call the function to execute the program\n",
        "store_strings_in_list()\n"
      ],
      "metadata": {
        "colab": {
          "base_uri": "https://localhost:8080/"
        },
        "id": "It_eAfaHRGQD",
        "outputId": "1f04ece0-69ef-4c76-e441-a915580eff0b"
      },
      "execution_count": 9,
      "outputs": [
        {
          "output_type": "stream",
          "name": "stdout",
          "text": [
            "Enter strings (press Enter without typing anything to finish):\n",
            "> \n",
            "\n",
            "Strings entered by the user:\n",
            "\n",
            "Programmed By : PARTH HAJELA 21BCE10683\n"
          ]
        }
      ]
    },
    {
      "cell_type": "markdown",
      "source": [
        "# Lab8 - Aim : Write python program to find the most frequent words in a text read from a file."
      ],
      "metadata": {
        "id": "NalZO23mR2pL"
      }
    },
    {
      "cell_type": "code",
      "source": [
        "from collections import Counter\n",
        "\n",
        "def most_frequent_words(filename, num_words):\n",
        "    try:\n",
        "        # Read the text from the file\n",
        "        with open(filename, 'r') as file:\n",
        "            text = file.read()\n",
        "    except FileNotFoundError:\n",
        "        print(f\"Error: File '{filename}' not found.\")\n",
        "        return []\n",
        "\n",
        "    # Split the text into words\n",
        "    words = text.split()\n",
        "\n",
        "    # Count the frequency of each word\n",
        "    word_counts = Counter(words)\n",
        "\n",
        "    # Find the most frequent words\n",
        "    most_frequent = word_counts.most_common(num_words)\n",
        "\n",
        "    return most_frequent\n",
        "\n",
        "if __name__ == \"__main__\":\n",
        "    # Prompt the user to enter the filename and number of most frequent words\n",
        "    filename = input(\"Enter the filename: \")\n",
        "    num_words = int(input(\"Enter the number of most frequent words to find: \"))\n",
        "\n",
        "    # Find the most frequent words\n",
        "    frequent_words = most_frequent_words(filename, num_words)\n",
        "\n",
        "    # Print the most frequent words and their frequencies\n",
        "    print(f\"\\nMost frequent {num_words} words in '{filename}':\")\n",
        "    for word, frequency in frequent_words:\n",
        "        print(f\"{word}: {frequency} times\")\n",
        "    print('\\nProgrammed By : PARTH HAJELA 21BCE10683')\n",
        "\n"
      ],
      "metadata": {
        "colab": {
          "base_uri": "https://localhost:8080/",
          "height": 245
        },
        "id": "3pYaL_ylV2iL",
        "outputId": "fa43be92-c9f8-4332-cc48-52386d9d7c6b"
      },
      "execution_count": 12,
      "outputs": [
        {
          "name": "stdout",
          "output_type": "stream",
          "text": [
            "Enter the filename: mytext.txt\n",
            "Enter the number of most frequent words to find: to\n"
          ]
        },
        {
          "output_type": "error",
          "ename": "ValueError",
          "evalue": "invalid literal for int() with base 10: 'to'",
          "traceback": [
            "\u001b[0;31m---------------------------------------------------------------------------\u001b[0m",
            "\u001b[0;31mValueError\u001b[0m                                Traceback (most recent call last)",
            "\u001b[0;32m<ipython-input-12-6fe683479529>\u001b[0m in \u001b[0;36m<cell line: 23>\u001b[0;34m()\u001b[0m\n\u001b[1;32m     24\u001b[0m     \u001b[0;31m# Prompt the user to enter the filename and number of most frequent words\u001b[0m\u001b[0;34m\u001b[0m\u001b[0;34m\u001b[0m\u001b[0m\n\u001b[1;32m     25\u001b[0m     \u001b[0mfilename\u001b[0m \u001b[0;34m=\u001b[0m \u001b[0minput\u001b[0m\u001b[0;34m(\u001b[0m\u001b[0;34m\"Enter the filename: \"\u001b[0m\u001b[0;34m)\u001b[0m\u001b[0;34m\u001b[0m\u001b[0;34m\u001b[0m\u001b[0m\n\u001b[0;32m---> 26\u001b[0;31m     \u001b[0mnum_words\u001b[0m \u001b[0;34m=\u001b[0m \u001b[0mint\u001b[0m\u001b[0;34m(\u001b[0m\u001b[0minput\u001b[0m\u001b[0;34m(\u001b[0m\u001b[0;34m\"Enter the number of most frequent words to find: \"\u001b[0m\u001b[0;34m)\u001b[0m\u001b[0;34m)\u001b[0m\u001b[0;34m\u001b[0m\u001b[0;34m\u001b[0m\u001b[0m\n\u001b[0m\u001b[1;32m     27\u001b[0m \u001b[0;34m\u001b[0m\u001b[0m\n\u001b[1;32m     28\u001b[0m     \u001b[0;31m# Find the most frequent words\u001b[0m\u001b[0;34m\u001b[0m\u001b[0;34m\u001b[0m\u001b[0m\n",
            "\u001b[0;31mValueError\u001b[0m: invalid literal for int() with base 10: 'to'"
          ]
        }
      ]
    },
    {
      "cell_type": "markdown",
      "source": [
        "# Lab 9 - Aim : Write python program in which a class is defined, then create object of that class and call simple ‘print function’ defined in class."
      ],
      "metadata": {
        "id": "uP0xJYJWW2YS"
      }
    },
    {
      "cell_type": "code",
      "source": [
        "class MyClass:\n",
        "    def print_message(self):\n",
        "        \"\"\"\n",
        "        Simple print function defined within the class.\n",
        "        \"\"\"\n",
        "        print(\"Hello from the print function inside MyClass!\")\n",
        "        print('Programmed By : PIYUSH PATEL 21BCE10690')\n",
        "\n",
        "# Create an object of MyClass\n",
        "obj = MyClass()\n",
        "\n",
        "# Call the print_message function of the object\n",
        "obj.print_message()\n"
      ],
      "metadata": {
        "colab": {
          "base_uri": "https://localhost:8080/"
        },
        "id": "zAi2wAnQXg7A",
        "outputId": "6e19ba80-9bff-4b58-edc7-18500929503c"
      },
      "execution_count": null,
      "outputs": [
        {
          "output_type": "stream",
          "name": "stdout",
          "text": [
            "Hello from the print function inside MyClass!\n",
            "Programmed By : PIYUSH PATEL 21BCE10690\n"
          ]
        }
      ]
    },
    {
      "cell_type": "markdown",
      "source": [
        "# Lab 10 - Aim : Write python program in which an function (with single string parameter) is defined and calling that function prints the string parameters given to function."
      ],
      "metadata": {
        "id": "Di0ef6VyX6oD"
      }
    },
    {
      "cell_type": "code",
      "source": [
        "def print_string(string):\n",
        "    \"\"\"\n",
        "    Function to print the string parameter passed to it.\n",
        "\n",
        "    Args:\n",
        "    - string (str): The string to be printed.\n",
        "    \"\"\"\n",
        "    print(string)\n",
        "\n",
        "# Call the function and pass a string parameter\n",
        "print_string(\"This is a test string argument. Programmed By : PIYUSH PATEL 21BCE10690\")\n"
      ],
      "metadata": {
        "colab": {
          "base_uri": "https://localhost:8080/"
        },
        "id": "KHQmU87lYdaJ",
        "outputId": "311a7565-be2f-465c-d904-0aedd4c96a43"
      },
      "execution_count": null,
      "outputs": [
        {
          "output_type": "stream",
          "name": "stdout",
          "text": [
            "This is a test string argument. Programmed By : PIYUSH PATEL 21BCE10690\n"
          ]
        }
      ]
    },
    {
      "cell_type": "markdown",
      "source": [
        "# Lab 11 - Aim : Simulate elliptical orbits in Pygame."
      ],
      "metadata": {
        "id": "YFbkKrbKY3Z1"
      }
    },
    {
      "cell_type": "code",
      "source": [
        "import pygame\n",
        "import math\n",
        "\n",
        "# Initialize Pygame\n",
        "pygame.init()\n",
        "\n",
        "# Set up the screen\n",
        "WIDTH, HEIGHT = 800, 600\n",
        "screen = pygame.display.set_mode((WIDTH, HEIGHT))\n",
        "pygame.display.set_caption(\"Elliptical Orbits Simulation\")\n",
        "\n",
        "# Colors\n",
        "WHITE = (255, 255, 255)\n",
        "RED = (255, 0, 0)\n",
        "\n",
        "# Parameters for the elliptical orbit\n",
        "a = 200  # Semi-major axis\n",
        "b = 150  # Semi-minor axis\n",
        "center_x = WIDTH // 2\n",
        "center_y = HEIGHT // 2\n",
        "\n",
        "# Function to calculate the position of an object on an elliptical orbit\n",
        "def calculate_position(angle):\n",
        "    x = center_x + a * math.cos(math.radians(angle))\n",
        "    y = center_y + b * math.sin(math.radians(angle))\n",
        "    return int(x), int(y)\n",
        "\n",
        "# Main loop\n",
        "angle = 0\n",
        "clock = pygame.time.Clock()\n",
        "running = True\n",
        "while running:\n",
        "    for event in pygame.event.get():\n",
        "        if event.type == pygame.QUIT:\n",
        "            running = False\n",
        "\n",
        "    # Clear the screen\n",
        "    screen.fill(WHITE)\n",
        "\n",
        "    # Calculate position on the elliptical orbit\n",
        "    object_x, object_y = calculate_position(angle)\n",
        "\n",
        "    # Draw the orbit\n",
        "    pygame.draw.ellipse(screen, RED, (center_x - a, center_y - b, 2 * a, 2 * b), 1)\n",
        "\n",
        "    # Draw the object\n",
        "    pygame.draw.circle(screen, RED, (object_x, object_y), 10)\n",
        "\n",
        "    # Update angle\n",
        "    angle += 1\n",
        "    if angle >= 360:\n",
        "        angle = 0\n",
        "\n",
        "    # Update the display\n",
        "    pygame.display.flip()\n",
        "\n",
        "    # Cap the frame rate\n",
        "    clock.tick(60)\n",
        "\n",
        "# Quit Pygame\n",
        "pygame.quit()\n",
        "\n",
        "#Google colab cannot run Graphical User interface (GUI) Pygame Programs.\n"
      ],
      "metadata": {
        "colab": {
          "base_uri": "https://localhost:8080/",
          "height": 245
        },
        "id": "V8xcrVv0Zz5j",
        "outputId": "4302f420-697e-415a-c838-3d12d66c8953"
      },
      "execution_count": null,
      "outputs": [
        {
          "output_type": "stream",
          "name": "stdout",
          "text": [
            "pygame 2.5.2 (SDL 2.28.2, Python 3.10.12)\n",
            "Hello from the pygame community. https://www.pygame.org/contribute.html\n"
          ]
        },
        {
          "output_type": "error",
          "ename": "KeyboardInterrupt",
          "evalue": "",
          "traceback": [
            "\u001b[0;31m---------------------------------------------------------------------------\u001b[0m",
            "\u001b[0;31mKeyboardInterrupt\u001b[0m                         Traceback (most recent call last)",
            "\u001b[0;32m<ipython-input-15-d0481568d6b6>\u001b[0m in \u001b[0;36m<cell line: 32>\u001b[0;34m()\u001b[0m\n\u001b[1;32m     56\u001b[0m \u001b[0;34m\u001b[0m\u001b[0m\n\u001b[1;32m     57\u001b[0m     \u001b[0;31m# Cap the frame rate\u001b[0m\u001b[0;34m\u001b[0m\u001b[0;34m\u001b[0m\u001b[0m\n\u001b[0;32m---> 58\u001b[0;31m     \u001b[0mclock\u001b[0m\u001b[0;34m.\u001b[0m\u001b[0mtick\u001b[0m\u001b[0;34m(\u001b[0m\u001b[0;36m60\u001b[0m\u001b[0;34m)\u001b[0m\u001b[0;34m\u001b[0m\u001b[0;34m\u001b[0m\u001b[0m\n\u001b[0m\u001b[1;32m     59\u001b[0m \u001b[0;34m\u001b[0m\u001b[0m\n\u001b[1;32m     60\u001b[0m \u001b[0;31m# Quit Pygame\u001b[0m\u001b[0;34m\u001b[0m\u001b[0;34m\u001b[0m\u001b[0m\n",
            "\u001b[0;31mKeyboardInterrupt\u001b[0m: "
          ]
        }
      ]
    },
    {
      "cell_type": "markdown",
      "source": [
        "# Lab 12 - Aim : Simulate bouncing ball using Pygame."
      ],
      "metadata": {
        "id": "XwDXbC9Djhgf"
      }
    },
    {
      "cell_type": "code",
      "source": [
        "import pygame\n",
        "import sys\n",
        "\n",
        "# Initialize Pygame\n",
        "pygame.init()\n",
        "\n",
        "# Set up the screen\n",
        "WIDTH, HEIGHT = 800, 600\n",
        "screen = pygame.display.set_mode((WIDTH, HEIGHT))\n",
        "pygame.display.set_caption(\"Bouncing Ball Simulation By : PIYUSH PATEL 21BCE10690\")\n",
        "\n",
        "# Colors\n",
        "WHITE = (255, 255, 255)\n",
        "RED = (255, 0, 0)\n",
        "\n",
        "# Ball parameters\n",
        "ball_radius = 20\n",
        "ball_x = WIDTH // 2\n",
        "ball_y = HEIGHT // 2\n",
        "ball_speed_x = 5\n",
        "ball_speed_y = 5\n",
        "\n",
        "# Function to draw text on the screen\n",
        "def draw_text(text, color, x, y):\n",
        "    font = pygame.font.SysFont(None, 24)\n",
        "    text_surface = font.render(text, True, color)\n",
        "    screen.blit(text_surface, (x, y))\n",
        "\n",
        "# Main loop\n",
        "clock = pygame.time.Clock()\n",
        "running = True\n",
        "while running:\n",
        "    for event in pygame.event.get():\n",
        "        if event.type == pygame.QUIT:\n",
        "            running = False\n",
        "\n",
        "    # Move the ball\n",
        "    ball_x += ball_speed_x\n",
        "    ball_y += ball_speed_y\n",
        "\n",
        "    # Check for collision with the edges of the window\n",
        "    if ball_x - ball_radius < 0 or ball_x + ball_radius > WIDTH:\n",
        "        ball_speed_x *= -1\n",
        "    if ball_y - ball_radius < 0 or ball_y + ball_radius > HEIGHT:\n",
        "        ball_speed_y *= -1\n",
        "\n",
        "    # Clear the screen\n",
        "    screen.fill(WHITE)\n",
        "\n",
        "    # Draw the ball\n",
        "    pygame.draw.circle(screen, RED, (ball_x, ball_y), ball_radius)\n",
        "\n",
        "    # Draw the text\n",
        "    draw_text(\"Programmed By : PIYUSH PATEL 21BCE10690\", RED, 10, 10)\n",
        "\n",
        "    # Update the display\n",
        "    pygame.display.flip()\n",
        "\n",
        "    # Cap the frame rate\n",
        "    clock.tick(60)\n",
        "\n",
        "# Quit Pygame\n",
        "pygame.quit()\n",
        "\n",
        "#Google colab cannot run Graphical User interface (GUI) Pygame Programs.\n",
        "\n"
      ],
      "metadata": {
        "colab": {
          "base_uri": "https://localhost:8080/",
          "height": 211
        },
        "id": "a5ycBkQpjhMR",
        "outputId": "a6940190-dfd8-4d6b-8920-f6a784625bb7"
      },
      "execution_count": null,
      "outputs": [
        {
          "output_type": "error",
          "ename": "KeyboardInterrupt",
          "evalue": "",
          "traceback": [
            "\u001b[0;31m---------------------------------------------------------------------------\u001b[0m",
            "\u001b[0;31mKeyboardInterrupt\u001b[0m                         Traceback (most recent call last)",
            "\u001b[0;32m<ipython-input-16-3bc1b5cd7848>\u001b[0m in \u001b[0;36m<cell line: 32>\u001b[0;34m()\u001b[0m\n\u001b[1;32m     55\u001b[0m \u001b[0;34m\u001b[0m\u001b[0m\n\u001b[1;32m     56\u001b[0m     \u001b[0;31m# Update the display\u001b[0m\u001b[0;34m\u001b[0m\u001b[0;34m\u001b[0m\u001b[0m\n\u001b[0;32m---> 57\u001b[0;31m     \u001b[0mpygame\u001b[0m\u001b[0;34m.\u001b[0m\u001b[0mdisplay\u001b[0m\u001b[0;34m.\u001b[0m\u001b[0mflip\u001b[0m\u001b[0;34m(\u001b[0m\u001b[0;34m)\u001b[0m\u001b[0;34m\u001b[0m\u001b[0;34m\u001b[0m\u001b[0m\n\u001b[0m\u001b[1;32m     58\u001b[0m \u001b[0;34m\u001b[0m\u001b[0m\n\u001b[1;32m     59\u001b[0m     \u001b[0;31m# Cap the frame rate\u001b[0m\u001b[0;34m\u001b[0m\u001b[0;34m\u001b[0m\u001b[0m\n",
            "\u001b[0;31mKeyboardInterrupt\u001b[0m: "
          ]
        }
      ]
    }
  ]
}